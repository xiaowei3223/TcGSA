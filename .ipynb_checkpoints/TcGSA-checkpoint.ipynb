{
 "cells": [
  {
   "cell_type": "markdown",
   "metadata": {},
   "source": [
    "TcGSA(Time-course Gene Set Analysis) 是一个R包，检验基因动态性表达水平在基因组中的显著性。基因组是已知的具有共同生物学功能或共同表达的一组基因。\n",
    "TcGSA依赖线性混合模型（linear mixed model）来考虑基因组内标的潜在异质性。\n",
    "\n",
    "本教程参考https://cran.r-project.org/web/packages/TcGSA/vignettes/TcGSA_userguide.html\n",
    "本教程所对应的文章 https://journals.plos.org/ploscompbiol/article?id=10.1371/journal.pcbi.1004310"
   ]
  },
  {
   "cell_type": "markdown",
   "metadata": {},
   "source": [
    "# 2. Getting started using TcGSA"
   ]
  },
  {
   "cell_type": "markdown",
   "metadata": {},
   "source": [
    "运行TcGSA需要输入：\n",
    "\n",
    "    gene set对象 （The gene set object)\n",
    "    gene表达矩阵  (The gene expression matrix)\n",
    "    数据矩阵设计 （design data matrix）\n"
   ]
  },
  {
   "cell_type": "markdown",
   "metadata": {},
   "source": [
    "## 2.1 Gene set object"
   ]
  },
  {
   "cell_type": "markdown",
   "metadata": {},
   "source": [
    " 预定义基因组是一组具有相同生物学功能的基因，它能够检测不同的基因表达，似乎比逐个基因分析更强大。  几个已经做好的基因组，这里我们重点介绍如下几个：\n",
    "\n",
    "    Chaussabel's modules\n",
    "    Gene Ontology database\n",
    "    KEGG\n",
    "\n",
    "gene set object 是gmt格式，包含有：\n",
    "\n",
    "    Gene set 名字\n",
    "    gene set 的描述，比如生物学功能\n",
    "    表示每个基因集中的基因的探针列表（the list of probes representing the genes inside each gene set)\n",
    "\n",
    "要么我们使用已经存在的gmt对象，要么自己建一个\n",
    "\n"
   ]
  },
  {
   "cell_type": "markdown",
   "metadata": {},
   "source": [
    "### 2.1.1  Download gmts from Hejblum et al., 2015"
   ]
  },
  {
   "cell_type": "markdown",
   "metadata": {},
   "source": [
    "To import the gmts used in Hejblum et al., 2015, one can download the supplementary file by running the following command:\n",
    "\n",
    " 使用Hejblum et al.,2015的gmt，利用下面的代码下载："
   ]
  },
  {
   "cell_type": "code",
   "execution_count": 1,
   "metadata": {},
   "outputs": [],
   "source": [
    "temp <- tempfile()\n",
    "#utils::download.file(\"http://doi.org/10.1371/journal.pcbi.1004310.s007\", destfile = temp, mode = \"wb\")\n",
    "load(unz(temp, \"ReproducibleRFiles/GMTs_PLOScb.RData\", open = \"r\"))\n",
    "unlink(temp)\n",
    "rm(temp)"
   ]
  },
  {
   "cell_type": "markdown",
   "metadata": {},
   "source": [
    "它包含上面详细描述的3个基因集(对于GO来说，它只是具有与免疫系统相关的生物学功能的相互排斥的基因集的子集)。\n",
    "\n",
    "免责声明:小心使用基因集数据库的版本，因为它们可能已经过时了。为了确保拥有最新版本的数据库，您可以(重新)按照下面的方法自己构建gmt对象。"
   ]
  },
  {
   "cell_type": "markdown",
   "metadata": {},
   "source": [
    "### 2.1.2 Self-built gmt"
   ]
  },
  {
   "cell_type": "markdown",
   "metadata": {},
   "source": [
    "自建gmt对I下那个，需要准备一个.gmt格式文件，该文件格式 是可以用tab分隔的文件创建的 参考http://software.broadinstitute.org/cancer/software/gsea/wiki/index.php/Data_formats#GMT:_Gene_Matrix_Transposed_file_format_.28.2A.gmt.29\n",
    "\n",
    "在这个文件中，每行代表着一个基因集（gene set):\n",
    "\n",
    "    Column 1： gene set 名称\n",
    "    Column 2:  gene set 的描述\n",
    "    剩下的columns： 包含在基因集中的基因列表(用探针表示)\n",
    "\n",
    "下一步是，导入.gmt文件到R， 需要使用GSA包的GSA.read.gmt()函数。更多内容查看GSA包。"
   ]
  },
  {
   "cell_type": "markdown",
   "metadata": {},
   "source": [
    "## 2.2 Gene expression matrix"
   ]
  },
  {
   "cell_type": "markdown",
   "metadata": {},
   "source": [
    "基因表达矩阵 每行一个基因，每个样本一列，  在运行TcGSA之前数据应该规范化。行名为每个基因名或者probe，并且必须与gmt对象的相匹配。"
   ]
  },
  {
   "cell_type": "markdown",
   "metadata": {},
   "source": [
    "## 2.3 Design data matrix"
   ]
  },
  {
   "cell_type": "markdown",
   "metadata": {},
   "source": [
    "该矩阵包含每一个样本（每行），几个变量（列）。这些变量是：\n",
    "\n",
    "    样本名称 （Sample names）\n",
    "    病人id （Patient identifiers)\n",
    "    时间  (Time measurements)\n",
    "    多种处理，处理的名称 (In case of multiple treatments, the name of treatment)"
   ]
  },
  {
   "cell_type": "markdown",
   "metadata": {},
   "source": [
    "# 3. How to use TcGSA for one treatment group?"
   ]
  },
  {
   "cell_type": "markdown",
   "metadata": {},
   "source": [
    "## 3.1 Data preparation"
   ]
  },
  {
   "cell_type": "markdown",
   "metadata": {},
   "source": [
    "这个例子来自Hejblum et al., 2015和DALIA-1 HIV 治疗疫苗实验。\n",
    "\n",
    "该研究的目的是评估HIV疫苗的免疫反应。\n",
    "\n",
    "为了开展这个研究，对19名感染艾滋病（HIV）病毒的患者进行了围棋48周的随访，分为2个阶段，每个阶段24例：\n",
    "\n",
    "    第1阶段从第0周至第24周(治疗中断前):患者接受抗逆转录病毒治疗，第0、4、8和12周接受试验疫苗。\n",
    "    第2阶段第24周至第48周(治疗中断后):随访患者，未注射试验疫苗，中断抗逆转录病毒治疗(健康问题除外)。\n",
    "\n",
    "在每个不同的测量时间点，对每个受试者采集血样，研究基因表达随时间的动态变化。\n",
    "\n",
    "有关数据可于GEO网站公开查阅，网址为https://www.ncbi.nlm.nih.gov/geo/GSE46734\n",
    "\n",
    "我们将使用GEOquery包从GEO网站获取数据文件(有关GEOquery的详细信息，请参阅附录)"
   ]
  },
  {
   "cell_type": "markdown",
   "metadata": {},
   "source": [
    "### 3.1.1 Import of data files"
   ]
  },
  {
   "cell_type": "markdown",
   "metadata": {},
   "source": [
    "在本例中，我们需要使用getGEOSuppFiles()函数导入GEO available的补充文件(我们只需要以下三个文件，因此需要正则表达式过滤器:基因表达pre-ATI、基因表达post-ATI、实验设计)。"
   ]
  },
  {
   "cell_type": "code",
   "execution_count": 2,
   "metadata": {},
   "outputs": [
    {
     "name": "stderr",
     "output_type": "stream",
     "text": [
      "Setting options('download.file.method.GEOquery'='auto')\n",
      "Setting options('GEOquery.inmemory.gpl'=FALSE)\n"
     ]
    },
    {
     "data": {
      "text/html": [
       "<table>\n",
       "<caption>A data.frame: 3 × 7</caption>\n",
       "<thead>\n",
       "\t<tr><th></th><th scope=col>size</th><th scope=col>isdir</th><th scope=col>mode</th><th scope=col>mtime</th><th scope=col>ctime</th><th scope=col>atime</th><th scope=col>exe</th></tr>\n",
       "\t<tr><th></th><th scope=col>&lt;dbl&gt;</th><th scope=col>&lt;lgl&gt;</th><th scope=col>&lt;octmode&gt;</th><th scope=col>&lt;dttm&gt;</th><th scope=col>&lt;dttm&gt;</th><th scope=col>&lt;dttm&gt;</th><th scope=col>&lt;chr&gt;</th></tr>\n",
       "</thead>\n",
       "<tbody>\n",
       "\t<tr><th scope=row>C:/Users/acer/aaaalab/TcGSA/GSE46734/GSE46734_DALIA1longitudinalTranscriptome_DESIGN_anonym.txt.gz</th><td>    2262</td><td>FALSE</td><td>666</td><td>2019-05-29 20:13:46</td><td>2019-05-29 20:13:45</td><td>2019-05-29 20:13:45</td><td>no</td></tr>\n",
       "\t<tr><th scope=row>C:/Users/acer/aaaalab/TcGSA/GSE46734/GSE46734_DALIA1longitudinalTranscriptome_PALO01_PostATI_NEQC_NonParamCombat.txt.gz</th><td>47984452</td><td>FALSE</td><td>666</td><td>2019-05-29 20:14:44</td><td>2019-05-29 20:13:46</td><td>2019-05-29 20:13:46</td><td>no</td></tr>\n",
       "\t<tr><th scope=row>C:/Users/acer/aaaalab/TcGSA/GSE46734/GSE46734_DALIA1longitudinalTranscriptome_PALO01_PreATI_NEQC_NonParamCombat.txt.gz</th><td>37333599</td><td>FALSE</td><td>666</td><td>2019-05-29 20:15:24</td><td>2019-05-29 20:14:44</td><td>2019-05-29 20:14:44</td><td>no</td></tr>\n",
       "</tbody>\n",
       "</table>\n"
      ],
      "text/latex": [
       "A data.frame: 3 × 7\n",
       "\\begin{tabular}{r|lllllll}\n",
       "  & size & isdir & mode & mtime & ctime & atime & exe\\\\\n",
       "  & <dbl> & <lgl> & <octmode> & <dttm> & <dttm> & <dttm> & <chr>\\\\\n",
       "\\hline\n",
       "\tC:/Users/acer/aaaalab/TcGSA/GSE46734/GSE46734\\_DALIA1longitudinalTranscriptome\\_DESIGN\\_anonym.txt.gz &     2262 & FALSE & 666 & 2019-05-29 20:13:46 & 2019-05-29 20:13:45 & 2019-05-29 20:13:45 & no\\\\\n",
       "\tC:/Users/acer/aaaalab/TcGSA/GSE46734/GSE46734\\_DALIA1longitudinalTranscriptome\\_PALO01\\_PostATI\\_NEQC\\_NonParamCombat.txt.gz & 47984452 & FALSE & 666 & 2019-05-29 20:14:44 & 2019-05-29 20:13:46 & 2019-05-29 20:13:46 & no\\\\\n",
       "\tC:/Users/acer/aaaalab/TcGSA/GSE46734/GSE46734\\_DALIA1longitudinalTranscriptome\\_PALO01\\_PreATI\\_NEQC\\_NonParamCombat.txt.gz & 37333599 & FALSE & 666 & 2019-05-29 20:15:24 & 2019-05-29 20:14:44 & 2019-05-29 20:14:44 & no\\\\\n",
       "\\end{tabular}\n"
      ],
      "text/markdown": [
       "\n",
       "A data.frame: 3 × 7\n",
       "\n",
       "| <!--/--> | size &lt;dbl&gt; | isdir &lt;lgl&gt; | mode &lt;octmode&gt; | mtime &lt;dttm&gt; | ctime &lt;dttm&gt; | atime &lt;dttm&gt; | exe &lt;chr&gt; |\n",
       "|---|---|---|---|---|---|---|---|\n",
       "| C:/Users/acer/aaaalab/TcGSA/GSE46734/GSE46734_DALIA1longitudinalTranscriptome_DESIGN_anonym.txt.gz |     2262 | FALSE | 666 | 2019-05-29 20:13:46 | 2019-05-29 20:13:45 | 2019-05-29 20:13:45 | no |\n",
       "| C:/Users/acer/aaaalab/TcGSA/GSE46734/GSE46734_DALIA1longitudinalTranscriptome_PALO01_PostATI_NEQC_NonParamCombat.txt.gz | 47984452 | FALSE | 666 | 2019-05-29 20:14:44 | 2019-05-29 20:13:46 | 2019-05-29 20:13:46 | no |\n",
       "| C:/Users/acer/aaaalab/TcGSA/GSE46734/GSE46734_DALIA1longitudinalTranscriptome_PALO01_PreATI_NEQC_NonParamCombat.txt.gz | 37333599 | FALSE | 666 | 2019-05-29 20:15:24 | 2019-05-29 20:14:44 | 2019-05-29 20:14:44 | no |\n",
       "\n"
      ],
      "text/plain": [
       "                                                                                                                        size    \n",
       "C:/Users/acer/aaaalab/TcGSA/GSE46734/GSE46734_DALIA1longitudinalTranscriptome_DESIGN_anonym.txt.gz                          2262\n",
       "C:/Users/acer/aaaalab/TcGSA/GSE46734/GSE46734_DALIA1longitudinalTranscriptome_PALO01_PostATI_NEQC_NonParamCombat.txt.gz 47984452\n",
       "C:/Users/acer/aaaalab/TcGSA/GSE46734/GSE46734_DALIA1longitudinalTranscriptome_PALO01_PreATI_NEQC_NonParamCombat.txt.gz  37333599\n",
       "                                                                                                                        isdir\n",
       "C:/Users/acer/aaaalab/TcGSA/GSE46734/GSE46734_DALIA1longitudinalTranscriptome_DESIGN_anonym.txt.gz                      FALSE\n",
       "C:/Users/acer/aaaalab/TcGSA/GSE46734/GSE46734_DALIA1longitudinalTranscriptome_PALO01_PostATI_NEQC_NonParamCombat.txt.gz FALSE\n",
       "C:/Users/acer/aaaalab/TcGSA/GSE46734/GSE46734_DALIA1longitudinalTranscriptome_PALO01_PreATI_NEQC_NonParamCombat.txt.gz  FALSE\n",
       "                                                                                                                        mode\n",
       "C:/Users/acer/aaaalab/TcGSA/GSE46734/GSE46734_DALIA1longitudinalTranscriptome_DESIGN_anonym.txt.gz                      666 \n",
       "C:/Users/acer/aaaalab/TcGSA/GSE46734/GSE46734_DALIA1longitudinalTranscriptome_PALO01_PostATI_NEQC_NonParamCombat.txt.gz 666 \n",
       "C:/Users/acer/aaaalab/TcGSA/GSE46734/GSE46734_DALIA1longitudinalTranscriptome_PALO01_PreATI_NEQC_NonParamCombat.txt.gz  666 \n",
       "                                                                                                                        mtime              \n",
       "C:/Users/acer/aaaalab/TcGSA/GSE46734/GSE46734_DALIA1longitudinalTranscriptome_DESIGN_anonym.txt.gz                      2019-05-29 20:13:46\n",
       "C:/Users/acer/aaaalab/TcGSA/GSE46734/GSE46734_DALIA1longitudinalTranscriptome_PALO01_PostATI_NEQC_NonParamCombat.txt.gz 2019-05-29 20:14:44\n",
       "C:/Users/acer/aaaalab/TcGSA/GSE46734/GSE46734_DALIA1longitudinalTranscriptome_PALO01_PreATI_NEQC_NonParamCombat.txt.gz  2019-05-29 20:15:24\n",
       "                                                                                                                        ctime              \n",
       "C:/Users/acer/aaaalab/TcGSA/GSE46734/GSE46734_DALIA1longitudinalTranscriptome_DESIGN_anonym.txt.gz                      2019-05-29 20:13:45\n",
       "C:/Users/acer/aaaalab/TcGSA/GSE46734/GSE46734_DALIA1longitudinalTranscriptome_PALO01_PostATI_NEQC_NonParamCombat.txt.gz 2019-05-29 20:13:46\n",
       "C:/Users/acer/aaaalab/TcGSA/GSE46734/GSE46734_DALIA1longitudinalTranscriptome_PALO01_PreATI_NEQC_NonParamCombat.txt.gz  2019-05-29 20:14:44\n",
       "                                                                                                                        atime              \n",
       "C:/Users/acer/aaaalab/TcGSA/GSE46734/GSE46734_DALIA1longitudinalTranscriptome_DESIGN_anonym.txt.gz                      2019-05-29 20:13:45\n",
       "C:/Users/acer/aaaalab/TcGSA/GSE46734/GSE46734_DALIA1longitudinalTranscriptome_PALO01_PostATI_NEQC_NonParamCombat.txt.gz 2019-05-29 20:13:46\n",
       "C:/Users/acer/aaaalab/TcGSA/GSE46734/GSE46734_DALIA1longitudinalTranscriptome_PALO01_PreATI_NEQC_NonParamCombat.txt.gz  2019-05-29 20:14:44\n",
       "                                                                                                                        exe\n",
       "C:/Users/acer/aaaalab/TcGSA/GSE46734/GSE46734_DALIA1longitudinalTranscriptome_DESIGN_anonym.txt.gz                      no \n",
       "C:/Users/acer/aaaalab/TcGSA/GSE46734/GSE46734_DALIA1longitudinalTranscriptome_PALO01_PostATI_NEQC_NonParamCombat.txt.gz no \n",
       "C:/Users/acer/aaaalab/TcGSA/GSE46734/GSE46734_DALIA1longitudinalTranscriptome_PALO01_PreATI_NEQC_NonParamCombat.txt.gz  no "
      ]
     },
     "metadata": {},
     "output_type": "display_data"
    }
   ],
   "source": [
    "GEOquery::getGEOSuppFiles('GSE46734', filter_regex=\"(*NonParamCombat*)|(*DESIGN*)\")"
   ]
  },
  {
   "cell_type": "markdown",
   "metadata": {},
   "source": [
    "### 3.1.2 Design data matrix"
   ]
  },
  {
   "cell_type": "code",
   "execution_count": null,
   "metadata": {},
   "outputs": [],
   "source": []
  },
  {
   "cell_type": "code",
   "execution_count": 3,
   "metadata": {},
   "outputs": [
    {
     "data": {
      "text/html": [
       "<table>\n",
       "<caption>A data.frame: 5 × 6</caption>\n",
       "<thead>\n",
       "\t<tr><th></th><th scope=col>Sample_name</th><th scope=col>Chip_ID</th><th scope=col>HYB_Chamber</th><th scope=col>HYB_Day</th><th scope=col>Patient_ID</th><th scope=col>TimePoint</th></tr>\n",
       "\t<tr><th></th><th scope=col>&lt;fct&gt;</th><th scope=col>&lt;fct&gt;</th><th scope=col>&lt;fct&gt;</th><th scope=col>&lt;fct&gt;</th><th scope=col>&lt;fct&gt;</th><th scope=col>&lt;int&gt;</th></tr>\n",
       "</thead>\n",
       "<tbody>\n",
       "\t<tr><th scope=row>1</th><td>X6116733008_L</td><td>C4 </td><td>CH1</td><td>D1</td><td>P001</td><td> 4</td></tr>\n",
       "\t<tr><th scope=row>3</th><td>X6116733022_E</td><td>C13</td><td>CH4</td><td>D1</td><td>P001</td><td>22</td></tr>\n",
       "\t<tr><th scope=row>5</th><td>X6116733029_A</td><td>C18</td><td>CH1</td><td>D2</td><td>P001</td><td> 8</td></tr>\n",
       "\t<tr><th scope=row>6</th><td>X6116733068_L</td><td>C25</td><td>CH3</td><td>D2</td><td>P001</td><td>12</td></tr>\n",
       "\t<tr><th scope=row>8</th><td>X6116733073_K</td><td>C29</td><td>CH4</td><td>D2</td><td>P001</td><td> 0</td></tr>\n",
       "</tbody>\n",
       "</table>\n"
      ],
      "text/latex": [
       "A data.frame: 5 × 6\n",
       "\\begin{tabular}{r|llllll}\n",
       "  & Sample\\_name & Chip\\_ID & HYB\\_Chamber & HYB\\_Day & Patient\\_ID & TimePoint\\\\\n",
       "  & <fct> & <fct> & <fct> & <fct> & <fct> & <int>\\\\\n",
       "\\hline\n",
       "\t1 & X6116733008\\_L & C4  & CH1 & D1 & P001 &  4\\\\\n",
       "\t3 & X6116733022\\_E & C13 & CH4 & D1 & P001 & 22\\\\\n",
       "\t5 & X6116733029\\_A & C18 & CH1 & D2 & P001 &  8\\\\\n",
       "\t6 & X6116733068\\_L & C25 & CH3 & D2 & P001 & 12\\\\\n",
       "\t8 & X6116733073\\_K & C29 & CH4 & D2 & P001 &  0\\\\\n",
       "\\end{tabular}\n"
      ],
      "text/markdown": [
       "\n",
       "A data.frame: 5 × 6\n",
       "\n",
       "| <!--/--> | Sample_name &lt;fct&gt; | Chip_ID &lt;fct&gt; | HYB_Chamber &lt;fct&gt; | HYB_Day &lt;fct&gt; | Patient_ID &lt;fct&gt; | TimePoint &lt;int&gt; |\n",
       "|---|---|---|---|---|---|---|\n",
       "| 1 | X6116733008_L | C4  | CH1 | D1 | P001 |  4 |\n",
       "| 3 | X6116733022_E | C13 | CH4 | D1 | P001 | 22 |\n",
       "| 5 | X6116733029_A | C18 | CH1 | D2 | P001 |  8 |\n",
       "| 6 | X6116733068_L | C25 | CH3 | D2 | P001 | 12 |\n",
       "| 8 | X6116733073_K | C29 | CH4 | D2 | P001 |  0 |\n",
       "\n"
      ],
      "text/plain": [
       "  Sample_name   Chip_ID HYB_Chamber HYB_Day Patient_ID TimePoint\n",
       "1 X6116733008_L C4      CH1         D1      P001        4       \n",
       "3 X6116733022_E C13     CH4         D1      P001       22       \n",
       "5 X6116733029_A C18     CH1         D2      P001        8       \n",
       "6 X6116733068_L C25     CH3         D2      P001       12       \n",
       "8 X6116733073_K C29     CH4         D2      P001        0       "
      ]
     },
     "metadata": {},
     "output_type": "display_data"
    }
   ],
   "source": [
    "design <- read.delim(gzfile(\"GSE46734/GSE46734_DALIA1longitudinalTranscriptome_DESIGN_anonym.txt.gz\"))\n",
    "design_preATI <- design[-which(design$TimePoint<0 | design$TimePoint==16 | design$TimePoint>22), ]\n",
    "head(design_preATI,5)"
   ]
  },
  {
   "cell_type": "code",
   "execution_count": null,
   "metadata": {},
   "outputs": [],
   "source": []
  }
 ],
 "metadata": {
  "kernelspec": {
   "display_name": "R",
   "language": "R",
   "name": "ir"
  },
  "language_info": {
   "codemirror_mode": "r",
   "file_extension": ".r",
   "mimetype": "text/x-r-source",
   "name": "R",
   "pygments_lexer": "r",
   "version": "3.5.1"
  }
 },
 "nbformat": 4,
 "nbformat_minor": 2
}
